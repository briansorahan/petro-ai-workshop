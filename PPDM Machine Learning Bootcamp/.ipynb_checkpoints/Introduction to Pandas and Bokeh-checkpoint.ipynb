{
 "cells": [
  {
   "cell_type": "markdown",
   "metadata": {},
   "source": [
    "Copyright 2019 Lewis Matthews License: Creative Commons Attribution 4.0 International https://creativecommons.org/licenses/by/4.0/\n",
    "\n",
    "This workflow was written to be accompanied by a bootcamp. \n",
    "\n",
    "www.wtdsi.org\n",
    "\n",
    "www.crownquest.com"
   ]
  },
  {
   "cell_type": "code",
   "execution_count": null,
   "metadata": {},
   "outputs": [],
   "source": [
    "# https://pandas.pydata.org/pandas-docs/stable/\n",
    "# https://docs.scipy.org/doc/numpy/user/quickstart.html\n",
    "# https://bokeh.pydata.org/en/latest/\n",
    "\n",
    "import pandas as pd\n",
    "\n",
    "from bokeh.io import push_notebook, show, output_notebook\n",
    "from bokeh.plotting import figure\n",
    "output_notebook()"
   ]
  },
  {
   "cell_type": "code",
   "execution_count": null,
   "metadata": {},
   "outputs": [],
   "source": [
    "from pandas import set_option\n",
    "set_option('display.max_columns',100)"
   ]
  },
  {
   "cell_type": "code",
   "execution_count": null,
   "metadata": {},
   "outputs": [],
   "source": [
    "#set_option?"
   ]
  },
  {
   "cell_type": "code",
   "execution_count": null,
   "metadata": {},
   "outputs": [],
   "source": [
    "#pd.read_excel?"
   ]
  },
  {
   "cell_type": "code",
   "execution_count": null,
   "metadata": {},
   "outputs": [],
   "source": [
    "df = pd.read_excel('VertB_merge.xlsx')\n",
    "df.head(10)"
   ]
  },
  {
   "cell_type": "raw",
   "metadata": {},
   "source": [
    "# Quick Petrophysical and Drilling Data Primer\n",
    "\n",
    "The table above is displaying petrophysical and drilling data by depth. The first column we see that starts '4300' is the index. We set this index to be whatever we want and can use this value to reference any row. \n",
    "\n",
    "The next column with the header 'DEPT' is the depth column. This column lets us know the distance from the surface in feet. \n",
    "\n",
    "The column with the header 'DT35' is a petrophysical measurement of the speed of a compressional sound wave through the rock at this depth. The units are microseconds per foot. The column can equivalently be named DTCO, MCDT, DT. \n",
    "\n",
    "The column marked GMGC is a petrophysical measurement of the spontaneous gamma ray emissions from the rock. The units are API which are based on a standard. The column can equivalently be named GR, GRTO, GMSG.\n",
    "\n",
    "The column marked 'NPRL:1' is a petrophysical measurement of rock porosity at that depth. The units are percentage based. The column can equivalently be named NPOR, NPHI.\n",
    "\n",
    "The column marked 'DEN' is a petrophysical measurement of rock density at that depth. The units are g/cc. The column can equivalently be named RHOB.\n",
    "\n",
    "The column marked 'PDPE' is a petrophysical index of mineralogy and it is unitless. The column can equivalently be named PE.\n",
    "\n",
    "The column marked 'NOMD' is the drilling depth that was used to merge the original drilling and petrophysical data. The units are in feet.\n",
    "\n",
    "The column marked 'ROP_-_FAST:1' is the rate of penetration of the drill bit through through the rock.\n",
    "\n",
    "The column marked 'BIT_WEIGHT' is the amount of weight pushing down on the drill bit.\n",
    "\n",
    "The column marked 'ROTARY_RPM' is the measured rotations per minute of the drill string."
   ]
  },
  {
   "cell_type": "code",
   "execution_count": null,
   "metadata": {},
   "outputs": [],
   "source": [
    "type(df)"
   ]
  },
  {
   "cell_type": "code",
   "execution_count": null,
   "metadata": {},
   "outputs": [],
   "source": [
    "df.shape"
   ]
  },
  {
   "cell_type": "code",
   "execution_count": null,
   "metadata": {},
   "outputs": [],
   "source": [
    "df.keys()"
   ]
  },
  {
   "cell_type": "code",
   "execution_count": null,
   "metadata": {
    "scrolled": true
   },
   "outputs": [],
   "source": [
    "df.info()"
   ]
  },
  {
   "cell_type": "code",
   "execution_count": null,
   "metadata": {},
   "outputs": [],
   "source": [
    "n_samples, n_features = df.shape\n",
    "print('Number of samples:', n_samples)\n",
    "print('Number of features:', n_features)"
   ]
  },
  {
   "cell_type": "code",
   "execution_count": null,
   "metadata": {},
   "outputs": [],
   "source": [
    "df[['DT35']].head(10)"
   ]
  },
  {
   "cell_type": "markdown",
   "metadata": {},
   "source": [
    "<div class=\"alert alert-success\">\n",
    "    <b>EXERCISE 1</b>:\n",
    "     <ul>\n",
    "      <li>Display the head for 'GMGC' dataframe column. \n",
    "      </li>\n",
    "    </ul>\n",
    "</div>"
   ]
  },
  {
   "cell_type": "markdown",
   "metadata": {},
   "source": [
    "<div class=\"alert alert-success\">\n",
    "    <b>EXERCISE 1 SOLUTION START </b>\n",
    "</div>"
   ]
  },
  {
   "cell_type": "code",
   "execution_count": null,
   "metadata": {},
   "outputs": [],
   "source": [
    "df[['GMGC']].head(10)"
   ]
  },
  {
   "cell_type": "markdown",
   "metadata": {},
   "source": [
    "<div class=\"alert alert-success\">\n",
    "    <b>EXERCISE 1 SOLUTION END </b>\n",
    "</div>"
   ]
  },
  {
   "cell_type": "code",
   "execution_count": null,
   "metadata": {
    "scrolled": true
   },
   "outputs": [],
   "source": [
    "df[['DT35','GMGC']].head()"
   ]
  },
  {
   "cell_type": "code",
   "execution_count": null,
   "metadata": {
    "scrolled": true
   },
   "outputs": [],
   "source": [
    "# Display column names in a list.\n",
    "df.columns.tolist()"
   ]
  },
  {
   "cell_type": "code",
   "execution_count": null,
   "metadata": {},
   "outputs": [],
   "source": [
    "del df['DEPT']"
   ]
  },
  {
   "cell_type": "code",
   "execution_count": null,
   "metadata": {},
   "outputs": [],
   "source": [
    "df.head()"
   ]
  },
  {
   "cell_type": "code",
   "execution_count": null,
   "metadata": {
    "scrolled": true
   },
   "outputs": [],
   "source": [
    "df.drop('DT35',axis=1).head()"
   ]
  },
  {
   "cell_type": "code",
   "execution_count": null,
   "metadata": {},
   "outputs": [],
   "source": [
    "df.head()"
   ]
  },
  {
   "cell_type": "code",
   "execution_count": null,
   "metadata": {
    "scrolled": true
   },
   "outputs": [],
   "source": [
    "df1 = pd.read_excel('VertC_merge.xlsx')\n",
    "df1"
   ]
  },
  {
   "cell_type": "code",
   "execution_count": null,
   "metadata": {},
   "outputs": [],
   "source": [
    "df1.loc[4030]"
   ]
  },
  {
   "cell_type": "code",
   "execution_count": null,
   "metadata": {
    "scrolled": false
   },
   "outputs": [],
   "source": [
    "df1.iloc[0]"
   ]
  },
  {
   "cell_type": "code",
   "execution_count": null,
   "metadata": {},
   "outputs": [],
   "source": [
    "df1.iloc[-1]"
   ]
  },
  {
   "cell_type": "code",
   "execution_count": null,
   "metadata": {},
   "outputs": [],
   "source": [
    "df1.iloc[[0,50,100]]"
   ]
  },
  {
   "cell_type": "code",
   "execution_count": null,
   "metadata": {},
   "outputs": [],
   "source": [
    "df1.loc[[0,50,100],['DEPT','DTCO','RHOB']]"
   ]
  },
  {
   "cell_type": "code",
   "execution_count": null,
   "metadata": {
    "scrolled": true
   },
   "outputs": [],
   "source": [
    "df1.loc[:,['DEPT','DTCO','RHOB']]"
   ]
  },
  {
   "cell_type": "code",
   "execution_count": null,
   "metadata": {
    "scrolled": true
   },
   "outputs": [],
   "source": [
    "# Select a volume by depth\n",
    "\n",
    "df1.loc[(df1['DEPT']>=5000)&(df1['DEPT']<=7000),['DEPT','DTCO','RHOB']]"
   ]
  },
  {
   "cell_type": "code",
   "execution_count": null,
   "metadata": {},
   "outputs": [],
   "source": [
    "# Mean of volume over an interval\n",
    "\n",
    "df1.loc[(df1['DEPT']>=5000)&(df1['DEPT']<=7000),['DEPT','DTCO','RHOB']].mean()"
   ]
  },
  {
   "cell_type": "code",
   "execution_count": null,
   "metadata": {},
   "outputs": [],
   "source": [
    "df1['DTCO'].mean()"
   ]
  },
  {
   "cell_type": "code",
   "execution_count": null,
   "metadata": {
    "scrolled": true
   },
   "outputs": [],
   "source": [
    "df1.loc[df1['DTCO']>df1['DTCO'].mean(), :]"
   ]
  },
  {
   "cell_type": "code",
   "execution_count": null,
   "metadata": {},
   "outputs": [],
   "source": [
    "x = df1['DEPT']\n",
    "y = df1['DTCO']"
   ]
  },
  {
   "cell_type": "code",
   "execution_count": null,
   "metadata": {
    "scrolled": true
   },
   "outputs": [],
   "source": [
    "p = figure(title='Delta T Compressional', plot_height=300, plot_width=800);\n",
    "r = p.line(x,y,color='green', line_width=0.5,legend='DTCO');\n",
    "p.xaxis.axis_label = 'Depth (ft)'\n",
    "p.yaxis.axis_label = 'Delta Time (ms/ft)'\n",
    "p.legend.location = 'top_left'\n",
    "show(p, notebook_handle=True);"
   ]
  },
  {
   "cell_type": "code",
   "execution_count": null,
   "metadata": {},
   "outputs": [],
   "source": [
    "x = df1['DEPT']\n",
    "y = df1['DTSM']"
   ]
  },
  {
   "cell_type": "code",
   "execution_count": null,
   "metadata": {},
   "outputs": [],
   "source": [
    "p = figure(title='Delta T Shear', plot_height=300, plot_width=800);\n",
    "r = p.line(x,y,color='blue', line_width=0.5,legend='DTSM');\n",
    "p.xaxis.axis_label = 'Depth (ft)'\n",
    "p.yaxis.axis_label = 'Delta Time (ms/ft)'\n",
    "p.legend.location = 'top_left'\n",
    "show(p, notebook_handle=True);"
   ]
  },
  {
   "cell_type": "code",
   "execution_count": null,
   "metadata": {},
   "outputs": [],
   "source": [
    "x = df1['DEPT']\n",
    "y = df1['DTCO']\n",
    "z = df1['DTSM']"
   ]
  },
  {
   "cell_type": "code",
   "execution_count": null,
   "metadata": {},
   "outputs": [],
   "source": [
    "p = figure(title='Delta T Compressional', plot_height=300, plot_width=800);\n",
    "\n",
    "p.line(x,y,color='brown', line_width=0.5,legend='DTCO');\n",
    "p.line(x,z,color='yellow', line_width=0.5,legend='DTSM');\n",
    "\n",
    "p.xaxis.axis_label = 'Depth (ft)'\n",
    "p.yaxis.axis_label = 'Delta Time (ms/ft)'\n",
    "p.legend.location = 'top_left'\n",
    "show(p, notebook_handle=True);"
   ]
  },
  {
   "cell_type": "code",
   "execution_count": null,
   "metadata": {},
   "outputs": [],
   "source": [
    "x = df1['DEPT']\n",
    "y = df1['DTCO']\n",
    "z = df1['DTSM']"
   ]
  },
  {
   "cell_type": "code",
   "execution_count": null,
   "metadata": {},
   "outputs": [],
   "source": [
    "p = figure(title='Delta T Compressional', plot_height=300, plot_width=800);\n",
    "\n",
    "p.circle(x,y,color='green', size=0.1,legend='DTCO');\n",
    "p.circle(x,z,color='blue', size=0.1,legend='DTSM');\n",
    "\n",
    "p.xaxis.axis_label = 'Depth (ft)'\n",
    "p.yaxis.axis_label = 'Delta Time (ms/ft)'\n",
    "p.legend.location = 'top_left'\n",
    "show(p, notebook_handle=True);"
   ]
  },
  {
   "cell_type": "code",
   "execution_count": null,
   "metadata": {},
   "outputs": [],
   "source": [
    "df2 = df1.loc[(df1['DEPT']>=5000)&(df1['DEPT']<=8000),['DEPT','DTCO','DTSM','RHOB']]"
   ]
  },
  {
   "cell_type": "code",
   "execution_count": null,
   "metadata": {},
   "outputs": [],
   "source": [
    "x = df2['DEPT']\n",
    "y = df2['DTCO']\n",
    "z = df2['DTSM']"
   ]
  },
  {
   "cell_type": "code",
   "execution_count": null,
   "metadata": {},
   "outputs": [],
   "source": [
    "p = figure(title='Delta T Compressional', plot_height=300, plot_width=800);\n",
    "\n",
    "p.line(x,y,color='green', line_width=0.5,legend='DTCO');\n",
    "p.line(x,z,color='blue', line_width=0.5,legend='DTSM');\n",
    "\n",
    "p.xaxis.axis_label = 'Depth (ft)'\n",
    "p.yaxis.axis_label = 'Delta Time (ms/ft)'\n",
    "p.legend.location = 'top_left'\n",
    "show(p, notebook_handle=True);"
   ]
  },
  {
   "cell_type": "code",
   "execution_count": null,
   "metadata": {},
   "outputs": [],
   "source": [
    "df1 = pd.read_excel('VertB_merge.xlsx')\n",
    "df2 = pd.read_excel('VertC_merge.xlsx')"
   ]
  },
  {
   "cell_type": "code",
   "execution_count": null,
   "metadata": {},
   "outputs": [],
   "source": [
    "df1.head()"
   ]
  },
  {
   "cell_type": "code",
   "execution_count": null,
   "metadata": {},
   "outputs": [],
   "source": [
    "df2.head()"
   ]
  },
  {
   "cell_type": "code",
   "execution_count": null,
   "metadata": {},
   "outputs": [],
   "source": [
    "print(df1.shape)\n",
    "print(df2.shape)"
   ]
  },
  {
   "cell_type": "code",
   "execution_count": null,
   "metadata": {},
   "outputs": [],
   "source": [
    "# If we want to merge VertB and VertC into a \n",
    "# single dataset we can use this method.\n",
    "# To concatenate matrices I need to have \n",
    "# standard column names.\n",
    "df1=df1[['DEPT','DT35','GMGC','ROP_-_FAST:1','BIT_WEIGHT','ROTARY_RPM']]\n",
    "df2=df2[['DEPT','DTCO','GR','ROP_-_FAST:1','BIT_WEIGHT','ROTARY_RPM']]\n",
    "df1 = df1.rename(index=str,columns={\"DEPT\":\"DEPT\",\"DT35\":\"DT\",\"GMGC\":\"GR\",\"ROP_-_FAST:1\":\"ROP\",\"BIT_WEIGHT\":\"WOB\",\"ROTARY_RPM\":\"RPM\"})\n",
    "df2 = df2.rename(index=str,columns={\"DEPT\":\"DEPT\",\"DTCO\":\"DT\",\"GR\":\"GR\",\"ROP_-_FAST:1\":\"ROP\",\"BIT_WEIGHT\":\"WOB\",\"ROTARY_RPM\":\"RPM\"})\n",
    "\n",
    "frames = [df1,df2]\n",
    "mergeBandC = pd.concat(frames,ignore_index=True)"
   ]
  },
  {
   "cell_type": "code",
   "execution_count": null,
   "metadata": {},
   "outputs": [],
   "source": [
    "pd.concat?"
   ]
  },
  {
   "cell_type": "code",
   "execution_count": null,
   "metadata": {
    "scrolled": true
   },
   "outputs": [],
   "source": [
    "mergeBandC"
   ]
  },
  {
   "cell_type": "markdown",
   "metadata": {
    "collapsed": true
   },
   "source": [
    "<div class=\"alert alert-success\">\n",
    "    <b>EXERCISE 2</b>:\n",
    "     <ul>\n",
    "      <li>Load VertA, VertB, VertC, VertD, VertE and browse through the data. \n",
    "      <li>What common columns do we have between all data?\n",
    "      <li>DT35 = DTCO = MCDT = DT\n",
    "      <li>GRTO = GMGC = GR = GMSG\n",
    "      <li>NPHI = NPRL:1 = NPOR = NPOR:1\n",
    "      <li>DEN = RHOB \n",
    "      <li>ROP = ROP_-_FAST:1\n",
    "      <li>WOB = BIT_WEIGHT\n",
    "      <li>ROTARY_RPM = RPM\n",
    "      </li>\n",
    "    </ul>\n",
    "</div>"
   ]
  },
  {
   "cell_type": "markdown",
   "metadata": {},
   "source": [
    "<div class=\"alert alert-success\">\n",
    "    <b>EXERCISE 2 SOLUTION START </b>\n",
    "</div>"
   ]
  },
  {
   "cell_type": "code",
   "execution_count": null,
   "metadata": {},
   "outputs": [],
   "source": [
    "df1 = pd.read_excel('VertA_merge.xlsx')\n",
    "df2 = pd.read_excel('VertB_merge.xlsx')\n",
    "df3 = pd.read_excel('VertC_merge.xlsx')\n",
    "df4 = pd.read_excel('VertD_merge.xlsx')\n",
    "df5 = pd.read_excel('VertE_merge.xlsx')"
   ]
  },
  {
   "cell_type": "code",
   "execution_count": null,
   "metadata": {},
   "outputs": [],
   "source": [
    "df1.head()"
   ]
  },
  {
   "cell_type": "code",
   "execution_count": null,
   "metadata": {},
   "outputs": [],
   "source": [
    "df2.head()"
   ]
  },
  {
   "cell_type": "code",
   "execution_count": null,
   "metadata": {},
   "outputs": [],
   "source": [
    "df3.head()"
   ]
  },
  {
   "cell_type": "code",
   "execution_count": null,
   "metadata": {},
   "outputs": [],
   "source": [
    "df4.head()"
   ]
  },
  {
   "cell_type": "code",
   "execution_count": null,
   "metadata": {},
   "outputs": [],
   "source": [
    "df5.head()"
   ]
  },
  {
   "cell_type": "markdown",
   "metadata": {},
   "source": [
    "<div class=\"alert alert-success\">\n",
    "    <b>EXERCISE 2 SOLUTION END </b>\n",
    "</div>"
   ]
  },
  {
   "cell_type": "markdown",
   "metadata": {},
   "source": [
    "<div class=\"alert alert-success\">\n",
    "    <b>EXERCISE 3</b>:\n",
    "     <ul>\n",
    "      <li>Concatenate VertA and VertB for [['DEPT','DT35','DEN','PDPE','ROP_-_FAST:1','BIT_WEIGHT','ROTARY_RPM']]\n",
    "      </li>\n",
    "    </ul>\n",
    "</div>"
   ]
  },
  {
   "cell_type": "markdown",
   "metadata": {},
   "source": [
    "<div class=\"alert alert-success\">\n",
    "    <b>EXERCISE 3 SOLUTION START </b>\n",
    "</div>"
   ]
  },
  {
   "cell_type": "code",
   "execution_count": null,
   "metadata": {},
   "outputs": [],
   "source": [
    "vertA = pd.read_excel('VertA_merge.xlsx')\n",
    "vertB = pd.read_excel('VertB_merge.xlsx')"
   ]
  },
  {
   "cell_type": "code",
   "execution_count": null,
   "metadata": {},
   "outputs": [],
   "source": [
    "vertA = vertA[['DEPT','DT35','DEN','PDPE','ROP_-_FAST:1','BIT_WEIGHT','ROTARY_RPM']]"
   ]
  },
  {
   "cell_type": "code",
   "execution_count": null,
   "metadata": {},
   "outputs": [],
   "source": [
    "vertB = vertB[['DEPT','DT35','DEN','PDPE','ROP_-_FAST:1','BIT_WEIGHT','ROTARY_RPM']]"
   ]
  },
  {
   "cell_type": "code",
   "execution_count": null,
   "metadata": {},
   "outputs": [],
   "source": [
    "frames = [vertA,vertB]\n",
    "mergeAandB = pd.concat(frames,ignore_index=True)"
   ]
  },
  {
   "cell_type": "code",
   "execution_count": null,
   "metadata": {},
   "outputs": [],
   "source": [
    "mergeAandB"
   ]
  },
  {
   "cell_type": "markdown",
   "metadata": {},
   "source": [
    "<div class=\"alert alert-success\">\n",
    "    <b>EXERCISE 3 SOLUTION END </b>\n",
    "</div>"
   ]
  }
 ],
 "metadata": {
  "kernelspec": {
   "display_name": "Python 3",
   "language": "python",
   "name": "python3"
  },
  "language_info": {
   "codemirror_mode": {
    "name": "ipython",
    "version": 3
   },
   "file_extension": ".py",
   "mimetype": "text/x-python",
   "name": "python",
   "nbconvert_exporter": "python",
   "pygments_lexer": "ipython3",
   "version": "3.7.5"
  }
 },
 "nbformat": 4,
 "nbformat_minor": 2
}
