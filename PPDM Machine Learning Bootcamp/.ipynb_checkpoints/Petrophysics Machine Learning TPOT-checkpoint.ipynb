{
 "cells": [
  {
   "cell_type": "code",
   "execution_count": null,
   "metadata": {},
   "outputs": [],
   "source": [
    "# Import toolboxes needed for workflow\n",
    "\n",
    "from tpot import TPOTRegressor\n",
    "\n",
    "import pandas as pd\n",
    "\n",
    "from pandas import set_option\n",
    "set_option('display.max_columns',400)\n",
    "\n",
    "import numpy as np\n",
    "\n",
    "from bokeh.io import push_notebook, show, output_notebook\n",
    "from bokeh.plotting import figure\n",
    "output_notebook()"
   ]
  },
  {
   "cell_type": "code",
   "execution_count": null,
   "metadata": {},
   "outputs": [],
   "source": [
    "# Import vertical wells.\n",
    "\n",
    "VertA = pd.read_excel('VertA_merge.xlsx')\n",
    "VertB = pd.read_excel('VertB_merge.xlsx')\n",
    "VertC = pd.read_excel('VertC_merge.xlsx')\n",
    "VertD = pd.read_excel('VertD_merge.xlsx')\n",
    "VertE = pd.read_excel('VertE_merge.xlsx')"
   ]
  },
  {
   "cell_type": "code",
   "execution_count": null,
   "metadata": {},
   "outputs": [],
   "source": [
    "# Correct porosity units NPRL:1 = NPOR = NPOR:1\n",
    "# These values need to be made the same.\n",
    "VertA['NPOR:1'] = VertA['NPOR:1']/100\n",
    "VertB['NPRL:1'] = VertB['NPRL:1']/100\n",
    "VertD['NPRL:1'] = VertD['NPRL:1']/100"
   ]
  },
  {
   "cell_type": "code",
   "execution_count": null,
   "metadata": {},
   "outputs": [],
   "source": [
    "# Merge A, B, C, D, and predict DT for E.\n",
    "# And standardize column names.\n",
    "# My RPM column for VertA is all zeros. \n",
    "# We might be able to use 'TOP_DRIVE_RPM' as a substitute.\n",
    "\n",
    "VertA_subset = VertA[['DEPT','DT35','GMSG','ROP_-_FAST:1','BIT_WEIGHT','TOP_DRIVE_RPM','DEN','NPOR:1']]\n",
    "VertB_subset = VertB[['DEPT','DT35','GMGC','ROP_-_FAST:1','BIT_WEIGHT','ROTARY_RPM','DEN','NPRL:1']]\n",
    "VertC_subset = VertC[['DEPT','DTCO','GR','ROP_-_FAST:1','BIT_WEIGHT','ROTARY_RPM','RHOB','NPOR']]\n",
    "VertD_subset = VertD[['DEPT','MCDT','GMGC','ROP_-_FAST:1','BIT_WEIGHT','ROTARY_RPM','DEN','NPRL:1']]\n",
    "VertE_subset = VertE[['DEPT','DT','GRTO','ROP','WOB','RPM','RHOB','NPHI']]\n",
    "\n",
    "\n",
    "VertA_subset = VertA_subset.rename(index=str,columns={\"DT35\":\"DT\",\"GMSG\":\"GR\",\"ROP_-_FAST:1\":\"ROP\",\"BIT_WEIGHT\":\"WOB\",\"TOP_DRIVE_RPM\":\"RPM\",\"DEN\":\"RHOB\",\"NPOR:1\":\"NPHI\"})\n",
    "VertB_subset = VertB_subset.rename(index=str,columns={\"DT35\":\"DT\",\"GMGC\":\"GR\",\"ROP_-_FAST:1\":\"ROP\",\"BIT_WEIGHT\":\"WOB\",\"ROTARY_RPM\":\"RPM\",\"DEN\":\"RHOB\",\"NPRL:1\":\"NPHI\"})\n",
    "VertC_subset = VertC_subset.rename(index=str,columns={\"DTCO\":\"DT\",\"GR\":\"GR\",\"ROP_-_FAST:1\":\"ROP\",\"BIT_WEIGHT\":\"WOB\",\"ROTARY_RPM\":\"RPM\",\"RHOB\":\"RHOB\",\"NPOR\":\"NPHI\"})\n",
    "VertD_subset = VertD_subset.rename(index=str,columns={\"MCDT\":\"DT\",\"GMGC\":\"GR\",\"ROP_-_FAST:1\":\"ROP\",\"BIT_WEIGHT\":\"WOB\",\"ROTARY_RPM\":\"RPM\",\"DEN\":\"RHOB\",\"NPRL:1\":\"NPHI\"})\n",
    "VertE_subset = VertE_subset.rename(index=str,columns={\"GRTO\":\"GR\"})\n",
    "\n",
    "\n",
    "frames = [VertA_subset,VertB_subset,VertC_subset,VertD_subset]\n",
    "mergeABCD = pd.concat(frames,ignore_index=True)"
   ]
  },
  {
   "cell_type": "code",
   "execution_count": null,
   "metadata": {},
   "outputs": [],
   "source": [
    "# Setup our X and y matrices\n",
    "X_VertABCD = mergeABCD[['ROP','WOB','RPM','GR','RHOB','NPHI']]\n",
    "y_VertABCD = mergeABCD['DT']\n",
    "\n",
    "X_VertE = VertE_subset[['ROP','WOB','RPM','GR','RHOB','NPHI']]\n",
    "y_VertE = VertE_subset['DT']"
   ]
  },
  {
   "cell_type": "code",
   "execution_count": null,
   "metadata": {},
   "outputs": [],
   "source": [
    "## https://epistasislab.github.io/tpot/"
   ]
  },
  {
   "cell_type": "code",
   "execution_count": null,
   "metadata": {},
   "outputs": [],
   "source": [
    "tpot = TPOTRegressor(generations=30, population_size=30, verbosity=2, n_jobs=-1, warm_start=True)"
   ]
  },
  {
   "cell_type": "code",
   "execution_count": null,
   "metadata": {},
   "outputs": [],
   "source": [
    "tpot.fit(X_VertABCD, y_VertABCD)"
   ]
  },
  {
   "cell_type": "code",
   "execution_count": null,
   "metadata": {},
   "outputs": [],
   "source": [
    "print(tpot.score(X_VertE, y_VertE))"
   ]
  },
  {
   "cell_type": "code",
   "execution_count": null,
   "metadata": {},
   "outputs": [],
   "source": [
    "tpot_model = tpot.predict(X_VertE)"
   ]
  },
  {
   "cell_type": "code",
   "execution_count": null,
   "metadata": {},
   "outputs": [],
   "source": [
    "# tpot.export('tpot_exported_pipeline.py')"
   ]
  },
  {
   "cell_type": "code",
   "execution_count": null,
   "metadata": {},
   "outputs": [],
   "source": [
    "x = VertE['DEPT']\n",
    "y = VertE['DT']\n",
    "z = tpot_model\n",
    "\n",
    "p = figure(title='VertE Predicted DT using TPOT', plot_width=600, plot_height=300)\n",
    "r = p.line(x, y, color='green', line_width=0.5,legend='DT')\n",
    "r1 = p.line(x, z, color='blue', line_width=0.5,legend='Pred. DT SVR')\n",
    "\n",
    "p.xaxis.axis_label = 'Depth (ft)'\n",
    "p.yaxis.axis_label = 'DT (ms/ft)'\n",
    "p.legend.location = 'top_left'\n",
    "show(p)"
   ]
  },
  {
   "cell_type": "code",
   "execution_count": null,
   "metadata": {},
   "outputs": [],
   "source": [
    "from sklearn.metrics import mean_absolute_error\n",
    "error = mean_absolute_error(y,z)"
   ]
  },
  {
   "cell_type": "code",
   "execution_count": null,
   "metadata": {},
   "outputs": [],
   "source": [
    "error"
   ]
  },
  {
   "cell_type": "code",
   "execution_count": null,
   "metadata": {},
   "outputs": [],
   "source": []
  }
 ],
 "metadata": {
  "kernelspec": {
   "display_name": "Python 3",
   "language": "python",
   "name": "python3"
  },
  "language_info": {
   "codemirror_mode": {
    "name": "ipython",
    "version": 3
   },
   "file_extension": ".py",
   "mimetype": "text/x-python",
   "name": "python",
   "nbconvert_exporter": "python",
   "pygments_lexer": "ipython3",
   "version": "3.7.5"
  }
 },
 "nbformat": 4,
 "nbformat_minor": 2
}
